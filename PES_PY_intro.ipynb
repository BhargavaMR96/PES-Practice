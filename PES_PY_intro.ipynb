{
 "cells": [
  {
   "cell_type": "markdown",
   "id": "522f3aa2-2ce0-4add-8613-bcb58c781dd2",
   "metadata": {},
   "source": [
    "# Program overview\n",
    "##### Do daily 1 hr to 2 hr practice or learning for the course. do Exploratory data analysis with different datasets to get to know how to handle datasets\n"
   ]
  },
  {
   "cell_type": "markdown",
   "id": "e1baf8df-de28-4e85-a3ae-788134618cef",
   "metadata": {},
   "source": [
    "print('hello world')"
   ]
  },
  {
   "cell_type": "code",
   "execution_count": 8,
   "id": "0b3909b2-4b71-4341-af7c-38019c137dd6",
   "metadata": {},
   "outputs": [
    {
     "data": {
      "text/plain": [
       "30"
      ]
     },
     "execution_count": 8,
     "metadata": {},
     "output_type": "execute_result"
    }
   ],
   "source": [
    "10+20"
   ]
  },
  {
   "cell_type": "markdown",
   "id": "f8455ba7-7c77-47b1-8fa7-6b4dd1e5ac03",
   "metadata": {},
   "source": [
    "# this is a markdown\n",
    "## change in the number of hashes changes the font size of the text\n",
    "##### ewdowhcdowcwwc"
   ]
  },
  {
   "cell_type": "code",
   "execution_count": 10,
   "id": "7ae11f31-b3be-41db-a106-71057fc3c354",
   "metadata": {},
   "outputs": [],
   "source": [
    "a = \"cwefw\", \"Orwange\"\n"
   ]
  },
  {
   "cell_type": "code",
   "execution_count": 11,
   "id": "955d7a35-33b0-48b7-8c79-65e669b76f9e",
   "metadata": {},
   "outputs": [
    {
     "name": "stdout",
     "output_type": "stream",
     "text": [
      "cwefw\n"
     ]
    }
   ],
   "source": [
    "print(a[0])"
   ]
  },
  {
   "cell_type": "code",
   "execution_count": 17,
   "id": "a6f64569-5e61-428d-8a5e-6d642d115914",
   "metadata": {},
   "outputs": [
    {
     "ename": "SyntaxError",
     "evalue": "Missing parentheses in call to 'print'. Did you mean print(...)? (4145456794.py, line 3)",
     "output_type": "error",
     "traceback": [
      "\u001b[1;36m  Cell \u001b[1;32mIn[17], line 3\u001b[1;36m\u001b[0m\n\u001b[1;33m    print i\u001b[0m\n\u001b[1;37m    ^\u001b[0m\n\u001b[1;31mSyntaxError\u001b[0m\u001b[1;31m:\u001b[0m Missing parentheses in call to 'print'. Did you mean print(...)?\n"
     ]
    }
   ],
   "source": [
    "i=0\n",
    "for i in a:\n",
    "    print i\n",
    "    i++"
   ]
  },
  {
   "cell_type": "code",
   "execution_count": 18,
   "id": "20f041ef-f9b4-460d-8b2d-8746abbe7f70",
   "metadata": {},
   "outputs": [
    {
     "name": "stdout",
     "output_type": "stream",
     "text": [
      "dollar $ Rupee ₛ\n"
     ]
    }
   ],
   "source": [
    "usd = 'dollar $'; inr= 'Rupee \\u209b'\n",
    "print(usd, inr)"
   ]
  },
  {
   "cell_type": "code",
   "execution_count": 20,
   "id": "594e6420-c722-480a-acd6-eb48151337c8",
   "metadata": {},
   "outputs": [
    {
     "name": "stdout",
     "output_type": "stream",
     "text": [
      "bse\n",
      "is in mubai \n",
      "bye \n",
      "bye\n"
     ]
    }
   ],
   "source": [
    "p1 = '''bse\n",
    "is in mubai \n",
    "bye \n",
    "bye'''\n",
    "print(p1)"
   ]
  },
  {
   "cell_type": "code",
   "execution_count": null,
   "id": "25f7e261-0327-45c4-a27e-a97e4a72711c",
   "metadata": {},
   "outputs": [],
   "source": []
  }
 ],
 "metadata": {
  "kernelspec": {
   "display_name": "Python 3 (ipykernel)",
   "language": "python",
   "name": "python3"
  },
  "language_info": {
   "codemirror_mode": {
    "name": "ipython",
    "version": 3
   },
   "file_extension": ".py",
   "mimetype": "text/x-python",
   "name": "python",
   "nbconvert_exporter": "python",
   "pygments_lexer": "ipython3",
   "version": "3.10.5"
  }
 },
 "nbformat": 4,
 "nbformat_minor": 5
}
